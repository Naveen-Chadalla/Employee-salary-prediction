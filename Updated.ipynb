{
  "nbformat": 4,
  "nbformat_minor": 0,
  "metadata": {
    "colab": {
      "provenance": [],
      "toc_visible": true
    },
    "kernelspec": {
      "name": "python3",
      "display_name": "Python 3"
    },
    "language_info": {
      "name": "python"
    }
  },
  "cells": [
    {
      "cell_type": "code",
      "execution_count": null,
      "metadata": {
        "id": "KyMYGr_64lLY"
      },
      "outputs": [],
      "source": [
        "import pandas as pd\n",
        "import numpy as np\n",
        "import matplotlib.pyplot as plt\n",
        "from sklearn.ensemble import GradientBoostingClassifier\n",
        "from sklearn.preprocessing import LabelEncoder, MinMaxScaler, OrdinalEncoder\n",
        "from sklearn.compose import ColumnTransformer\n",
        "from sklearn.pipeline import Pipeline\n",
        "from sklearn.model_selection import train_test_split\n",
        "import joblib"
      ]
    },
    {
      "cell_type": "code",
      "source": [
        "data=pd.read_csv(\"/content/adult 3.csv\")"
      ],
      "metadata": {
        "id": "qL9MS8JM4tyx"
      },
      "execution_count": null,
      "outputs": []
    },
    {
      "cell_type": "code",
      "source": [
        "data.occupation.replace({'?':'Not-listed'},inplace=True)\n",
        "data.workclass.replace({'?':'Others'},inplace=True)"
      ],
      "metadata": {
        "id": "Xf5x7b7J5Dm5"
      },
      "execution_count": null,
      "outputs": []
    },
    {
      "cell_type": "code",
      "source": [
        "data = data[data['workclass']!='Without-pay']\n",
        "data = data[data['workclass']!='Never-worked']\n",
        "data = data[data['education']!='5th-6th']\n",
        "data = data[data['education']!='1st-4th']\n",
        "data = data[data['education']!='Preschool']\n",
        "data = data[data['marital-status']!='Married-AF-spouse']\n",
        "data = data[data['occupation'] != 'Armed-Forces']"
      ],
      "metadata": {
        "id": "xQiwRCwV5TcX"
      },
      "execution_count": null,
      "outputs": []
    },
    {
      "cell_type": "code",
      "source": [
        "#redundancy\n",
        "data.drop(columns='educational-num' , inplace=True)\n",
        "data.drop(columns='race' , inplace=True)\n",
        "data.drop(columns='relationship' , inplace=True)\n",
        "data.drop(columns='fnlwgt',inplace=True)"
      ],
      "metadata": {
        "id": "fLDFSciL5aE7"
      },
      "execution_count": null,
      "outputs": []
    },
    {
      "cell_type": "code",
      "source": [
        "plt.boxplot(data['age'])\n",
        "plt.show()"
      ],
      "metadata": {
        "id": "rDgdkgPn57oL"
      },
      "execution_count": null,
      "outputs": []
    },
    {
      "cell_type": "code",
      "source": [
        "data=data[(data['age']<=75)& (data['age']>=17)]"
      ],
      "metadata": {
        "id": "SjJMIqFu6CR2"
      },
      "execution_count": null,
      "outputs": []
    },
    {
      "cell_type": "code",
      "source": [
        "plt.boxplot(data['age'])\n",
        "plt.show()"
      ],
      "metadata": {
        "id": "qvHNuMUv6dsO"
      },
      "execution_count": null,
      "outputs": []
    },
    {
      "cell_type": "code",
      "source": [
        "data"
      ],
      "metadata": {
        "id": "dnc4-zJb9XpY"
      },
      "execution_count": null,
      "outputs": []
    },
    {
      "cell_type": "code",
      "source": [
        "# Define features & label\n",
        "X = data.drop(columns=['income'])  # 'salary' is your target column\n",
        "y = data[\"income\"]"
      ],
      "metadata": {
        "id": "Zpdrlb3q6h6M"
      },
      "execution_count": null,
      "outputs": []
    },
    {
      "cell_type": "code",
      "source": [
        "# Define column types\n",
        "categorical_cols = [\"workclass\",\"education\", \"marital-status\", \"occupation\", \"gender\", \"native-country\"]\n",
        "numerical_cols = [\"age\", \"capital-gain\", \"capital-loss\", \"hours-per-week\"]"
      ],
      "metadata": {
        "id": "Y3llwEIu7nN-"
      },
      "execution_count": null,
      "outputs": []
    },
    {
      "cell_type": "code",
      "source": [
        "# Define preprocessing\n",
        "preprocessor = ColumnTransformer(\n",
        "    transformers=[\n",
        "        (\"cat\", OrdinalEncoder(handle_unknown='use_encoded_value', unknown_value=-1), categorical_cols),\n",
        "        (\"num\", MinMaxScaler(), numerical_cols)\n",
        "    ]\n",
        ")"
      ],
      "metadata": {
        "id": "NONtBfwI8gjk"
      },
      "execution_count": null,
      "outputs": []
    },
    {
      "cell_type": "code",
      "source": [
        "# Define the pipeline\n",
        "pipeline = Pipeline(steps=[\n",
        "    (\"preprocessor\", preprocessor),\n",
        "    (\"classifier\", GradientBoostingClassifier())\n",
        "])"
      ],
      "metadata": {
        "id": "MJQHKxG-8slw"
      },
      "execution_count": null,
      "outputs": []
    },
    {
      "cell_type": "code",
      "source": [
        "# Train/test split\n",
        "X_train, X_test, y_train, y_test = train_test_split(X, y, test_size=0.2, random_state=42)"
      ],
      "metadata": {
        "id": "37GevhPK8uMS"
      },
      "execution_count": null,
      "outputs": []
    },
    {
      "cell_type": "code",
      "source": [
        "pipeline.fit(X_train, y_train)"
      ],
      "metadata": {
        "id": "VTHhpsoX8zIT"
      },
      "execution_count": null,
      "outputs": []
    },
    {
      "cell_type": "code",
      "source": [
        "from sklearn.metrics import accuracy_score, classification_report, confusion_matrix\n",
        "\n",
        "# Predict on the test set\n",
        "y_pred = pipeline.predict(X_test)\n",
        "\n",
        "# Accuracy\n",
        "accuracy = accuracy_score(y_test, y_pred)\n",
        "print(f\"✅ Accuracy: {accuracy:.4f}\")\n",
        "\n",
        "# Detailed Classification Report\n",
        "print(\"\\n📊 Classification Report:\")\n",
        "print(classification_report(y_test, y_pred))\n",
        "\n",
        "# Confusion Matrix\n",
        "print(\"\\n🧮 Confusion Matrix:\")\n",
        "print(confusion_matrix(y_test, y_pred))\n"
      ],
      "metadata": {
        "id": "GGO4Fg0v9OV_"
      },
      "execution_count": null,
      "outputs": []
    },
    {
      "cell_type": "code",
      "source": [
        "joblib.dump(pipeline, \"model.pkl\")\n",
        "print(\"✅ Model pipeline saved as model.pkl\")"
      ],
      "metadata": {
        "id": "SCn7rUnF82Xe"
      },
      "execution_count": null,
      "outputs": []
    },
    {
      "cell_type": "code",
      "source": [
        "import joblib\n",
        "model = joblib.load(\"model.pkl\")\n",
        "print(type(model))"
      ],
      "metadata": {
        "id": "OS0WK9JW-n4y"
      },
      "execution_count": null,
      "outputs": []
    },
    {
      "cell_type": "code",
      "source": [],
      "metadata": {
        "id": "AVey0O7hBqfe"
      },
      "execution_count": null,
      "outputs": []
    }
  ]
}